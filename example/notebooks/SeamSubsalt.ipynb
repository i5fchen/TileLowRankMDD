{
 "cells": [
  {
   "cell_type": "code",
   "execution_count": 1,
   "id": "05fce795",
   "metadata": {},
   "outputs": [],
   "source": [
    "import numpy as np\n",
    "from numpy.linalg import norm"
   ]
  },
  {
   "cell_type": "code",
   "execution_count": 6,
   "id": "1068e576",
   "metadata": {},
   "outputs": [],
   "source": [
    "from tilelowrankmdd.solver.ipalm import ipalm\n",
    "from tilelowrankmdd.utils.prox import prox_Fro\n",
    "from tilelowrankmdd.mdd.mdd_fact import x2lr_global, x2qqt_global"
   ]
  },
  {
   "cell_type": "code",
   "execution_count": 7,
   "id": "21bf065f",
   "metadata": {},
   "outputs": [],
   "source": [
    "import matplotlib.pyplot as plt"
   ]
  },
  {
   "cell_type": "code",
   "execution_count": 8,
   "id": "28e1cf3d",
   "metadata": {},
   "outputs": [],
   "source": [
    "dat = np.load('../../data/pup_pdown_seamsubsalt.npz', allow_pickle=True)\n",
    "\n",
    "pup_f   = dat['pup']\n",
    "\n",
    "pdown_f = dat['pdown']\n",
    "\n",
    "nt = 2025"
   ]
  },
  {
   "cell_type": "code",
   "execution_count": null,
   "id": "84e94244",
   "metadata": {},
   "outputs": [],
   "source": [
    "ret_q, ret_lr = [], []\n",
    "tol = 1e-7\n",
    "ifstart, ifend = 10, 600\n",
    "ns, nr = pdown_f[0].shape\n",
    "nk = nr//4 \n",
    "\n",
    "lam = 0.1\n",
    "proxlist=[prox_Fro(lam)]\n",
    "\n",
    "for idx in range(ifstart, ifend):\n",
    "\n",
    "    ia = pdown_f[idx]\n",
    "    ib = pup_f[idx]\n",
    "    x0 = np.eye(nr, nk) +  np.eye(nr, nk)*1j\n",
    "    x0 = [x0.ravel()]\n",
    "    tau_guess = [norm(ia, 'fro')**2]\n",
    "    \n",
    "    iH = x2qqt_global(ia, nk)\n",
    "    x1 = ipalm(iH, ib, proxlist, x0, tau_guess, tol)\n",
    "    ret_q.append(x1[0])\n",
    "    \n",
    "    iH = x2lr_global(ia, nk)\n",
    "    x1 = ipalm(iH, ib, proxlist*2, x0*2, tau_guess*2, tol)\n",
    "    ret_lr.append(x1)"
   ]
  },
  {
   "cell_type": "code",
   "execution_count": null,
   "id": "98905128",
   "metadata": {},
   "outputs": [],
   "source": [
    "ret_q2 = np.array(ret_q).reshape(ifend-ifstart, nr, nk)\n",
    "ret_q2 = [iq.dot(iq.T) for iq in ret_q2]\n",
    "g0 = np.zeros((ifend, nr, nr))*1j\n",
    "g0[ifstart:] = ret_q2\n",
    "g0 = np.fft.irfft(g0, n=nt, axis=0)\n",
    "\n",
    "ret_lr2 = [ilr[0].reshape(nr,nk).dot(ilr[-1].reshape(nk,nr)) for ilr in ret_lr]\n",
    "ret_lr2 = np.array(ret_lr2).reshape(ifend-ifstart, nr, nr)\n",
    "ret_lr2.shape\n",
    "g1 = np.zeros((ifend, nr, nr))*1j\n",
    "g1[ifstart:] = ret_lr2\n",
    "g1 = np.fft.irfft(g1, n=nt, axis=0)"
   ]
  },
  {
   "cell_type": "code",
   "execution_count": null,
   "id": "3354022e",
   "metadata": {},
   "outputs": [],
   "source": []
  },
  {
   "cell_type": "code",
   "execution_count": null,
   "id": "3caf71aa",
   "metadata": {},
   "outputs": [],
   "source": [
    "fig, axs = plt.subplots(2,2, figsize=(10,14))\n",
    "pclip = 0.8\n",
    "\n",
    "dat = g1[:525, 75] ## the case of factorizing x into l.dot(r) \n",
    "cc = np.abs(dat).max()\n",
    "axs[0][0].imshow(dat, aspect=0.4, vmin=-cc*pclip, vmax=cc*pclip, cmap=\"gray\")\n",
    "title = 'Common virtual source with n/(2k)=%d'%(nr//nk//2)\n",
    "axs[0][0].set_title(title)\n",
    "\n",
    "\n",
    "dat = g1[:525, :, 75] ## the case of factorizing x into l.dot(r) \n",
    "cc = np.abs(dat).max()\n",
    "axs[0][1].imshow(dat, aspect=0.4, vmin=-cc*pclip, vmax=cc*pclip, cmap=\"gray\")\n",
    "title = 'Common receiver with n/(2k)=%d'%(nr//nk//2)\n",
    "axs[0][1].set_title(title)\n",
    "\n",
    "dat = g0[:525, 75] ## the case of factorizing x into l.dot(r) \n",
    "cc = np.abs(dat).max()\n",
    "axs[1][0].imshow(dat, aspect=0.4, vmin=-cc*pclip, vmax=cc*pclip, cmap=\"gray\")\n",
    "title = 'Common virtual source with n/k=%d'%(nr//nk)\n",
    "axs[1][0].set_title(title)\n",
    "\n",
    "dat = g0[:525, :, 75] ## the case of factorizing x into l.dot(r) \n",
    "cc = np.abs(dat).max()\n",
    "axs[1][1].imshow(dat, aspect=0.4, vmin=-cc*pclip, vmax=cc*pclip, cmap=\"gray\")\n",
    "title = 'Common receiver with n/k=%d'%(nr//nk)\n",
    "axs[1][1].set_title(title)"
   ]
  },
  {
   "cell_type": "code",
   "execution_count": null,
   "id": "577351d6",
   "metadata": {},
   "outputs": [],
   "source": []
  },
  {
   "cell_type": "code",
   "execution_count": null,
   "id": "48a90332",
   "metadata": {},
   "outputs": [],
   "source": []
  },
  {
   "cell_type": "code",
   "execution_count": null,
   "id": "566abdfa",
   "metadata": {},
   "outputs": [],
   "source": []
  }
 ],
 "metadata": {
  "kernelspec": {
   "display_name": "Python 3 (ipykernel)",
   "language": "python",
   "name": "python3"
  },
  "language_info": {
   "codemirror_mode": {
    "name": "ipython",
    "version": 3
   },
   "file_extension": ".py",
   "mimetype": "text/x-python",
   "name": "python",
   "nbconvert_exporter": "python",
   "pygments_lexer": "ipython3",
   "version": "3.8.10"
  }
 },
 "nbformat": 4,
 "nbformat_minor": 5
}

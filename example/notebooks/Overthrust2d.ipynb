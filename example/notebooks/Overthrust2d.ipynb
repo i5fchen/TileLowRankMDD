{
 "cells": [
  {
   "cell_type": "code",
   "execution_count": 1,
   "id": "05fce795",
   "metadata": {},
   "outputs": [],
   "source": [
    "import numpy as np\n",
    "from numpy.linalg import norm"
   ]
  },
  {
   "cell_type": "code",
   "execution_count": 2,
   "id": "1068e576",
   "metadata": {},
   "outputs": [],
   "source": [
    "from tilelowrankmdd.solver.ipalm import ipalm\n",
    "from tilelowrankmdd.utils.prox import prox_Fro\n",
    "from tilelowrankmdd.mdd.mdd_fact import x2qqt_global"
   ]
  },
  {
   "cell_type": "code",
   "execution_count": 3,
   "id": "dfa0f516",
   "metadata": {},
   "outputs": [],
   "source": [
    "import matplotlib.pyplot as plt"
   ]
  },
  {
   "cell_type": "code",
   "execution_count": 4,
   "id": "28e1cf3d",
   "metadata": {},
   "outputs": [],
   "source": [
    "dat = np.load('../../data/pup_pdown_overthrust.npz', allow_pickle=True)\n",
    "\n",
    "pup_f   = dat['pup']\n",
    "\n",
    "pdown_f = dat['pdown']\n",
    "\n",
    "nt = 1600"
   ]
  },
  {
   "cell_type": "code",
   "execution_count": null,
   "id": "84e94244",
   "metadata": {},
   "outputs": [],
   "source": [
    "ret = []\n",
    "tol = 2e-4\n",
    "ifstart, ifend = 0, 540\n",
    "ns, nr = pdown_f[0].shape\n",
    "nk = nr//4 \n",
    "\n",
    "lam = (0.0, 0.1)\n",
    "\n",
    "for ilam in lam:\n",
    "    proxlist=[prox_Fro(ilam)]\n",
    "    for idx in range(ifstart, ifend):\n",
    "        ia = pdown_f[idx]\n",
    "        ib = pup_f[idx]\n",
    "        coupled_H = x2qqt_global(ia, nk)\n",
    "    \n",
    "        x0 = np.eye(nr, nk) +  np.eye(nr, nk)*1j\n",
    "        tau_guess = [norm(ia, 'fro')**2]\n",
    "        \n",
    "        x1 = ipalm(coupled_H, ib, proxlist, [x0.ravel(),], tau_guess, tol)\n",
    "    \n",
    "        ret.append(x1[0])"
   ]
  },
  {
   "cell_type": "code",
   "execution_count": null,
   "id": "3caf71aa",
   "metadata": {},
   "outputs": [],
   "source": [
    "fig, axs = plt.subplots(1,2, figsize=(10,8))\n",
    "pclip = 0.05\n",
    "\n",
    "ret = np.array(ret).reshape(ifend*2, nr, nk)\n",
    "dat = np.matmul(ret, ret.transpose(0,2,1))\n",
    "\n",
    "for idx, idat in enumerate((dat[:ifend], dat[ifend:])):\n",
    "    g1 = np.fft.irfft(idat, n=nt, axis=0)\n",
    "\n",
    "    g1 = g1[:701, 201] \n",
    "    cc = np.abs(g1).max()\n",
    "    axs[idx].imshow(g1, aspect=0.7, vmin=-cc*pclip, vmax=cc*pclip, cmap=\"gray\")\n",
    "    title = '$\\lambda=%s$'%lam[idx]\n",
    "    axs[idx].set_title(title)"
   ]
  },
  {
   "cell_type": "code",
   "execution_count": null,
   "id": "577351d6",
   "metadata": {},
   "outputs": [],
   "source": []
  },
  {
   "cell_type": "code",
   "execution_count": null,
   "id": "48a90332",
   "metadata": {},
   "outputs": [],
   "source": []
  },
  {
   "cell_type": "code",
   "execution_count": null,
   "id": "566abdfa",
   "metadata": {},
   "outputs": [],
   "source": []
  }
 ],
 "metadata": {
  "kernelspec": {
   "display_name": "Python 3 (ipykernel)",
   "language": "python",
   "name": "python3"
  },
  "language_info": {
   "codemirror_mode": {
    "name": "ipython",
    "version": 3
   },
   "file_extension": ".py",
   "mimetype": "text/x-python",
   "name": "python",
   "nbconvert_exporter": "python",
   "pygments_lexer": "ipython3",
   "version": "3.8.10"
  }
 },
 "nbformat": 4,
 "nbformat_minor": 5
}
